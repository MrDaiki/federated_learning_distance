{
 "cells": [
  {
   "cell_type": "code",
   "execution_count": 2,
   "metadata": {},
   "outputs": [],
   "source": [
    "from __future__ import print_function\n",
    "import argparse\n",
    "\n",
    "import torch\n",
    "import torch.nn as nn\n",
    "import torch.nn.functional as F\n",
    "import torch.optim as optim\n"
   ]
  },
  {
   "cell_type": "code",
   "execution_count": 3,
   "metadata": {},
   "outputs": [],
   "source": [
    "class Net(nn.Module):\n",
    "    def __init__(self):\n",
    "        super(Net, self).__init__()\n",
    "        self.conv1 = nn.Conv2d(1, 32, 3, 1)\n",
    "        self.conv2 = nn.Conv2d(32, 64, 3, 1)\n",
    "        self.dropout1 = nn.Dropout2d(0.25)\n",
    "        self.dropout2 = nn.Dropout2d(0.5)\n",
    "        self.fc1 = nn.Linear(9216, 128)\n",
    "        self.fc2 = nn.Linear(128, 10)\n",
    "\n",
    "    def forward(self, x):\n",
    "        x = self.conv1(x)\n",
    "        x = F.relu(x)\n",
    "        x = self.conv2(x)\n",
    "        x = F.relu(x)\n",
    "        x = F.max_pool2d(x, 2)\n",
    "        x = self.dropout1(x)\n",
    "        x = torch.flatten(x, 1)\n",
    "        x = self.fc1(x)\n",
    "        x = F.relu(x)\n",
    "        x = self.dropout2(x)\n",
    "        x = self.fc2(x)\n",
    "        output = F.log_softmax(x, dim=1)\n",
    "        return output\n",
    "\n",
    "    "
   ]
  },
  {
   "cell_type": "code",
   "execution_count": 4,
   "metadata": {},
   "outputs": [],
   "source": [
    "\n",
    "def train(model, device, train_loader, optimizer, epoch,log_interval):\n",
    "    model.train()\n",
    "    for batch_idx, (data, target) in enumerate(train_loader):\n",
    "        data, target = data.to(device), target.to(device)\n",
    "        optimizer.zero_grad()\n",
    "        output = model(data)\n",
    "        loss = F.nll_loss(output, target)\n",
    "        loss.backward()\n",
    "        optimizer.step()\n",
    "        if batch_idx % log_interval == 0:\n",
    "            print('Train Epoch: {} [{}/{} ({:.0f}%)]\\tLoss: {:.6f}'.format(\n",
    "                epoch, batch_idx * len(data), len(train_loader.dataset),\n",
    "                100. * batch_idx / len(train_loader), loss.item()))"
   ]
  },
  {
   "cell_type": "code",
   "execution_count": 5,
   "metadata": {},
   "outputs": [],
   "source": [
    "def test(model, device, test_loader):\n",
    "    model.eval()\n",
    "    test_loss = 0\n",
    "    correct = 0\n",
    "    with torch.no_grad():\n",
    "        for data, target in test_loader:\n",
    "            data, target = data.to(device), target.to(device)\n",
    "            output = model(data)\n",
    "            test_loss += F.nll_loss(output, target, reduction='sum').item()  # sum up batch loss\n",
    "            pred = output.argmax(dim=1, keepdim=True)  # get the index of the max log-probability\n",
    "            correct += pred.eq(target.view_as(pred)).sum().item()\n",
    "\n",
    "    test_loss /= len(test_loader.dataset)\n",
    "\n",
    "    print('\\nTest set: Average loss: {:.4f}, Accuracy: {}/{} ({:.0f}%)\\n'.format(\n",
    "        test_loss, correct, len(test_loader.dataset),\n",
    "        100. * correct / len(test_loader.dataset)))\n",
    "\n",
    "    return 100. * correct / len(test_loader.dataset)"
   ]
  },
  {
   "cell_type": "code",
   "execution_count": 13,
   "metadata": {},
   "outputs": [],
   "source": [
    "\n",
    "from torchvision import datasets, transforms\n",
    "from torch.optim.lr_scheduler import StepLR\n",
    "\n",
    "batch_size = 64\n",
    "test_batch_size = 1000\n",
    "epochs = 30\n",
    "lr = 1.0\n",
    "gamma = 0.7\n",
    "no_cuda = False\n",
    "seed=1\n",
    "log_interval = 10\n",
    "save_model = False\n",
    "\n",
    "use_cuda = not no_cuda and torch.cuda.is_available() \n",
    "torch.manual_seed(seed)\n",
    "\n",
    "device = torch.device(\"cuda\" if use_cuda else \"cpu\")\n",
    "kwargs = {'num_workers': 1, 'pin_memory': True} if use_cuda else {}\n"
   ]
  },
  {
   "cell_type": "code",
   "execution_count": 7,
   "metadata": {},
   "outputs": [],
   "source": [
    "from generate_increasing_dataset import generate_delta_probability\n",
    "\n",
    "step = 5\n",
    "training_dataset_size = 1000\n",
    "dataset_size = 1000"
   ]
  },
  {
   "cell_type": "code",
   "execution_count": 8,
   "metadata": {},
   "outputs": [],
   "source": [
    "base_vector = [ 0.01 for i in range(10)]\n",
    "final_vector = [ 0 for i in range(10)]\n",
    "\n",
    "\n",
    "\n",
    "final_vector[0] = 1.0\n",
    "base_vector[1] = 0.91\n",
    "\n",
    "\n",
    "repartition_list = generate_delta_probability(base_vector, final_vector, step)\n",
    "\n",
    "transform = transforms.Compose(\n",
    "[\n",
    "    transforms.ToTensor(),\n",
    "    transforms.Normalize((0.1307,), (0.3081,))\n",
    "])"
   ]
  },
  {
   "cell_type": "code",
   "execution_count": 9,
   "metadata": {},
   "outputs": [
    {
     "name": "stdout",
     "output_type": "stream",
     "text": [
      "[{0: 0.01, 1: 0.91, 2: 0.01, 3: 0.01, 4: 0.01, 5: 0.01, 6: 0.01, 7: 0.01, 8: 0.01, 9: 0.01}, {0: 0.20800000000000002, 1: 0.728, 2: 0.008, 3: 0.008, 4: 0.008, 5: 0.008, 6: 0.008, 7: 0.008, 8: 0.008, 9: 0.008}, {0: 0.406, 1: 0.546, 2: 0.006, 3: 0.006, 4: 0.006, 5: 0.006, 6: 0.006, 7: 0.006, 8: 0.006, 9: 0.006}, {0: 0.6040000000000001, 1: 0.364, 2: 0.004, 3: 0.004, 4: 0.004, 5: 0.004, 6: 0.004, 7: 0.004, 8: 0.004, 9: 0.004}, {0: 0.802, 1: 0.18200000000000005, 2: 0.002, 3: 0.002, 4: 0.002, 5: 0.002, 6: 0.002, 7: 0.002, 8: 0.002, 9: 0.002}, {0: 1.0, 1: 1.1102230246251565e-16, 2: 0.0, 3: 0.0, 4: 0.0, 5: 0.0, 6: 0.0, 7: 0.0, 8: 0.0, 9: 0.0}]\n",
      "[{0: 0.01, 1: 0.91, 2: 0.01, 3: 0.01, 4: 0.01, 5: 0.01, 6: 0.01, 7: 0.01, 8: 0.01, 9: 0.01}, {0: 0.20800000000000002, 1: 0.728, 2: 0.008, 3: 0.008, 4: 0.008, 5: 0.008, 6: 0.008, 7: 0.008, 8: 0.008, 9: 0.008}, {0: 0.406, 1: 0.546, 2: 0.006, 3: 0.006, 4: 0.006, 5: 0.006, 6: 0.006, 7: 0.006, 8: 0.006, 9: 0.006}, {0: 0.6040000000000001, 1: 0.364, 2: 0.004, 3: 0.004, 4: 0.004, 5: 0.004, 6: 0.004, 7: 0.004, 8: 0.004, 9: 0.004}, {0: 0.802, 1: 0.18200000000000005, 2: 0.002, 3: 0.002, 4: 0.002, 5: 0.002, 6: 0.002, 7: 0.002, 8: 0.002, 9: 0.002}, {0: 1.0, 1: 1.1102230246251565e-16, 2: 0.0, 3: 0.0, 4: 0.0, 5: 0.0, 6: 0.0, 7: 0.0, 8: 0.0, 9: 0.0}]\n",
      "[{0: 0.01, 1: 0.91, 2: 0.01, 3: 0.01, 4: 0.01, 5: 0.01, 6: 0.01, 7: 0.01, 8: 0.01, 9: 0.01}, {0: 0.20800000000000002, 1: 0.728, 2: 0.008, 3: 0.008, 4: 0.008, 5: 0.008, 6: 0.008, 7: 0.008, 8: 0.008, 9: 0.008}, {0: 0.406, 1: 0.546, 2: 0.006, 3: 0.006, 4: 0.006, 5: 0.006, 6: 0.006, 7: 0.006, 8: 0.006, 9: 0.006}, {0: 0.6040000000000001, 1: 0.364, 2: 0.004, 3: 0.004, 4: 0.004, 5: 0.004, 6: 0.004, 7: 0.004, 8: 0.004, 9: 0.004}, {0: 0.802, 1: 0.18200000000000005, 2: 0.002, 3: 0.002, 4: 0.002, 5: 0.002, 6: 0.002, 7: 0.002, 8: 0.002, 9: 0.002}, {0: 1.0, 1: 1.1102230246251565e-16, 2: 0.0, 3: 0.0, 4: 0.0, 5: 0.0, 6: 0.0, 7: 0.0, 8: 0.0, 9: 0.0}]\n",
      "[{0: 0.01, 1: 0.91, 2: 0.01, 3: 0.01, 4: 0.01, 5: 0.01, 6: 0.01, 7: 0.01, 8: 0.01, 9: 0.01}, {0: 0.20800000000000002, 1: 0.728, 2: 0.008, 3: 0.008, 4: 0.008, 5: 0.008, 6: 0.008, 7: 0.008, 8: 0.008, 9: 0.008}, {0: 0.406, 1: 0.546, 2: 0.006, 3: 0.006, 4: 0.006, 5: 0.006, 6: 0.006, 7: 0.006, 8: 0.006, 9: 0.006}, {0: 0.6040000000000001, 1: 0.364, 2: 0.004, 3: 0.004, 4: 0.004, 5: 0.004, 6: 0.004, 7: 0.004, 8: 0.004, 9: 0.004}, {0: 0.802, 1: 0.18200000000000005, 2: 0.002, 3: 0.002, 4: 0.002, 5: 0.002, 6: 0.002, 7: 0.002, 8: 0.002, 9: 0.002}, {0: 1.0, 1: 1.1102230246251565e-16, 2: 0.0, 3: 0.0, 4: 0.0, 5: 0.0, 6: 0.0, 7: 0.0, 8: 0.0, 9: 0.0}]\n",
      "[{0: 0.01, 1: 0.91, 2: 0.01, 3: 0.01, 4: 0.01, 5: 0.01, 6: 0.01, 7: 0.01, 8: 0.01, 9: 0.01}, {0: 0.20800000000000002, 1: 0.728, 2: 0.008, 3: 0.008, 4: 0.008, 5: 0.008, 6: 0.008, 7: 0.008, 8: 0.008, 9: 0.008}, {0: 0.406, 1: 0.546, 2: 0.006, 3: 0.006, 4: 0.006, 5: 0.006, 6: 0.006, 7: 0.006, 8: 0.006, 9: 0.006}, {0: 0.6040000000000001, 1: 0.364, 2: 0.004, 3: 0.004, 4: 0.004, 5: 0.004, 6: 0.004, 7: 0.004, 8: 0.004, 9: 0.004}, {0: 0.802, 1: 0.18200000000000005, 2: 0.002, 3: 0.002, 4: 0.002, 5: 0.002, 6: 0.002, 7: 0.002, 8: 0.002, 9: 0.002}, {0: 1.0, 1: 1.1102230246251565e-16, 2: 0.0, 3: 0.0, 4: 0.0, 5: 0.0, 6: 0.0, 7: 0.0, 8: 0.0, 9: 0.0}]\n",
      "[{0: 0.01, 1: 0.91, 2: 0.01, 3: 0.01, 4: 0.01, 5: 0.01, 6: 0.01, 7: 0.01, 8: 0.01, 9: 0.01}, {0: 0.20800000000000002, 1: 0.728, 2: 0.008, 3: 0.008, 4: 0.008, 5: 0.008, 6: 0.008, 7: 0.008, 8: 0.008, 9: 0.008}, {0: 0.406, 1: 0.546, 2: 0.006, 3: 0.006, 4: 0.006, 5: 0.006, 6: 0.006, 7: 0.006, 8: 0.006, 9: 0.006}, {0: 0.6040000000000001, 1: 0.364, 2: 0.004, 3: 0.004, 4: 0.004, 5: 0.004, 6: 0.004, 7: 0.004, 8: 0.004, 9: 0.004}, {0: 0.802, 1: 0.18200000000000005, 2: 0.002, 3: 0.002, 4: 0.002, 5: 0.002, 6: 0.002, 7: 0.002, 8: 0.002, 9: 0.002}, {0: 1.0, 1: 1.1102230246251565e-16, 2: 0.0, 3: 0.0, 4: 0.0, 5: 0.0, 6: 0.0, 7: 0.0, 8: 0.0, 9: 0.0}]\n"
     ]
    }
   ],
   "source": [
    "for repartition in repartition_list:\n",
    "    print(repartition_list)"
   ]
  },
  {
   "cell_type": "code",
   "execution_count": 10,
   "metadata": {},
   "outputs": [],
   "source": [
    "from dataset_generator.generate_dataset import partionate_dataset_repetition\n",
    "\n",
    "reference_dataset = datasets.MNIST('../data',\n",
    "                       transform=transform\n",
    ")\n",
    "\n",
    "training_dataset = datasets.MNIST('../data',\n",
    "                       transform=transform\n",
    ")\n",
    "\n",
    "train_data,train_targets = partionate_dataset_repetition(\n",
    "        reference_dataset.data,\n",
    "        reference_dataset.targets, \n",
    "        repartition_list[0] ,\n",
    "        training_dataset_size\n",
    "    )\n",
    "\n",
    "training_dataset.data = train_data\n",
    "training_dataset.targets = train_targets\n",
    "\n",
    "train_loader = torch.utils.data.DataLoader(\n",
    "    training_dataset,\n",
    "    batch_size=batch_size, \n",
    "    shuffle=True, \n",
    "    **kwargs\n",
    ")\n"
   ]
  },
  {
   "cell_type": "code",
   "execution_count": 11,
   "metadata": {},
   "outputs": [],
   "source": [
    "model = Net().to(device)\n",
    "optimizer = optim.Adadelta(model.parameters(), lr=lr)\n",
    "\n",
    "scheduler = StepLR(optimizer, step_size=1, gamma=gamma)"
   ]
  },
  {
   "cell_type": "code",
   "execution_count": 17,
   "metadata": {},
   "outputs": [
    {
     "name": "stdout",
     "output_type": "stream",
     "text": [
      "Train Epoch: 1 [0/1000 (0%)]\tLoss: 0.084392\n",
      "Train Epoch: 1 [640/1000 (62%)]\tLoss: 0.125147\n",
      "Train Epoch: 2 [0/1000 (0%)]\tLoss: 0.122905\n",
      "Train Epoch: 2 [640/1000 (62%)]\tLoss: 0.096792\n",
      "Train Epoch: 3 [0/1000 (0%)]\tLoss: 0.145976\n",
      "Train Epoch: 3 [640/1000 (62%)]\tLoss: 0.084977\n",
      "Train Epoch: 4 [0/1000 (0%)]\tLoss: 0.082786\n",
      "Train Epoch: 4 [640/1000 (62%)]\tLoss: 0.145396\n",
      "Train Epoch: 5 [0/1000 (0%)]\tLoss: 0.059362\n",
      "Train Epoch: 5 [640/1000 (62%)]\tLoss: 0.059283\n",
      "Train Epoch: 6 [0/1000 (0%)]\tLoss: 0.053506\n",
      "Train Epoch: 6 [640/1000 (62%)]\tLoss: 0.059492\n",
      "Train Epoch: 7 [0/1000 (0%)]\tLoss: 0.099732\n",
      "Train Epoch: 7 [640/1000 (62%)]\tLoss: 0.055632\n",
      "Train Epoch: 8 [0/1000 (0%)]\tLoss: 0.103052\n",
      "Train Epoch: 8 [640/1000 (62%)]\tLoss: 0.045682\n",
      "Train Epoch: 9 [0/1000 (0%)]\tLoss: 0.030153\n",
      "Train Epoch: 9 [640/1000 (62%)]\tLoss: 0.092624\n",
      "Train Epoch: 10 [0/1000 (0%)]\tLoss: 0.030818\n",
      "Train Epoch: 10 [640/1000 (62%)]\tLoss: 0.045570\n",
      "Train Epoch: 11 [0/1000 (0%)]\tLoss: 0.043220\n",
      "Train Epoch: 11 [640/1000 (62%)]\tLoss: 0.071358\n",
      "Train Epoch: 12 [0/1000 (0%)]\tLoss: 0.142040\n",
      "Train Epoch: 12 [640/1000 (62%)]\tLoss: 0.065397\n",
      "Train Epoch: 13 [0/1000 (0%)]\tLoss: 0.134901\n",
      "Train Epoch: 13 [640/1000 (62%)]\tLoss: 0.089926\n",
      "Train Epoch: 14 [0/1000 (0%)]\tLoss: 0.076281\n",
      "Train Epoch: 14 [640/1000 (62%)]\tLoss: 0.082292\n",
      "Train Epoch: 15 [0/1000 (0%)]\tLoss: 0.036444\n",
      "Train Epoch: 15 [640/1000 (62%)]\tLoss: 0.114173\n",
      "Train Epoch: 16 [0/1000 (0%)]\tLoss: 0.017957\n",
      "Train Epoch: 16 [640/1000 (62%)]\tLoss: 0.088129\n",
      "Train Epoch: 17 [0/1000 (0%)]\tLoss: 0.130912\n",
      "Train Epoch: 17 [640/1000 (62%)]\tLoss: 0.079548\n",
      "Train Epoch: 18 [0/1000 (0%)]\tLoss: 0.058269\n",
      "Train Epoch: 18 [640/1000 (62%)]\tLoss: 0.116793\n",
      "Train Epoch: 19 [0/1000 (0%)]\tLoss: 0.058165\n",
      "Train Epoch: 19 [640/1000 (62%)]\tLoss: 0.079004\n",
      "Train Epoch: 20 [0/1000 (0%)]\tLoss: 0.090464\n",
      "Train Epoch: 20 [640/1000 (62%)]\tLoss: 0.034366\n",
      "Train Epoch: 21 [0/1000 (0%)]\tLoss: 0.133707\n",
      "Train Epoch: 21 [640/1000 (62%)]\tLoss: 0.074383\n",
      "Train Epoch: 22 [0/1000 (0%)]\tLoss: 0.018554\n",
      "Train Epoch: 22 [640/1000 (62%)]\tLoss: 0.087187\n",
      "Train Epoch: 23 [0/1000 (0%)]\tLoss: 0.089793\n",
      "Train Epoch: 23 [640/1000 (62%)]\tLoss: 0.072901\n",
      "Train Epoch: 24 [0/1000 (0%)]\tLoss: 0.024875\n",
      "Train Epoch: 24 [640/1000 (62%)]\tLoss: 0.056646\n",
      "Train Epoch: 25 [0/1000 (0%)]\tLoss: 0.085460\n",
      "Train Epoch: 25 [640/1000 (62%)]\tLoss: 0.070605\n",
      "Train Epoch: 26 [0/1000 (0%)]\tLoss: 0.075358\n",
      "Train Epoch: 26 [640/1000 (62%)]\tLoss: 0.028764\n",
      "Train Epoch: 27 [0/1000 (0%)]\tLoss: 0.048913\n",
      "Train Epoch: 27 [640/1000 (62%)]\tLoss: 0.072476\n",
      "Train Epoch: 28 [0/1000 (0%)]\tLoss: 0.085639\n",
      "Train Epoch: 28 [640/1000 (62%)]\tLoss: 0.061163\n",
      "Train Epoch: 29 [0/1000 (0%)]\tLoss: 0.023574\n",
      "Train Epoch: 29 [640/1000 (62%)]\tLoss: 0.069057\n",
      "Train Epoch: 30 [0/1000 (0%)]\tLoss: 0.134283\n",
      "Train Epoch: 30 [640/1000 (62%)]\tLoss: 0.072759\n"
     ]
    }
   ],
   "source": [
    "for epoch in range(1, epochs + 1):\n",
    "\n",
    "        train(model, device, train_loader, optimizer, epoch,log_interval)\n",
    "        scheduler.step()\n",
    "\n"
   ]
  },
  {
   "cell_type": "code",
   "execution_count": 15,
   "metadata": {},
   "outputs": [],
   "source": [
    "if save_model:\n",
    "    torch.save(model.state_dict(), \"mnist_cnn.pt\")"
   ]
  },
  {
   "cell_type": "code",
   "execution_count": 16,
   "metadata": {},
   "outputs": [],
   "source": [
    "\n",
    "data_and_label_list = [\n",
    "    partionate_dataset_repetition(\n",
    "        reference_dataset.data,\n",
    "        reference_dataset.targets, \n",
    "        probability ,\n",
    "        dataset_size\n",
    "    ) for probability in repartition_list \n",
    "]\n",
    "\n",
    "dataset_list = [ \n",
    "    datasets.MNIST(\n",
    "        '../data',\n",
    "        transform=transform\n",
    "    )\n",
    "     for i in range(len(data_and_label_list))\n",
    "]\n",
    "\n",
    "test_list = []\n",
    "\n",
    "for dataset,data_label in zip(dataset_list,data_and_label_list):\n",
    "\n",
    "    data_p,label_p = data_label\n",
    "\n",
    "    dataset.data = data_p\n",
    "    dataset.targets = label_p\n",
    "\n",
    "    test_loader = torch.utils.data.DataLoader(\n",
    "        dataset,\n",
    "        batch_size=test_batch_size, \n",
    "        shuffle=True, \n",
    "        **kwargs\n",
    "    )\n",
    "\n",
    "    test_list.append(test_loader)\n",
    "\n",
    "\n",
    "\n"
   ]
  },
  {
   "cell_type": "code",
   "execution_count": 31,
   "metadata": {},
   "outputs": [
    {
     "name": "stdout",
     "output_type": "stream",
     "text": [
      "\n",
      "Test set: Average loss: 0.0557, Accuracy: 982/1000 (98%)\n",
      "\n",
      "\n",
      "Test set: Average loss: 0.0807, Accuracy: 978/1000 (98%)\n",
      "\n",
      "\n",
      "Test set: Average loss: 0.1051, Accuracy: 973/1000 (97%)\n",
      "\n",
      "\n",
      "Test set: Average loss: 0.1219, Accuracy: 970/1000 (97%)\n",
      "\n",
      "\n",
      "Test set: Average loss: 0.1343, Accuracy: 968/1000 (97%)\n",
      "\n",
      "\n",
      "Test set: Average loss: 0.1384, Accuracy: 970/1000 (97%)\n",
      "\n"
     ]
    }
   ],
   "source": [
    "from distance.distance import distance_vector_dict\n",
    "\n",
    "delta_y = []\n",
    "delta_x = [distance_vector_dict(\n",
    "    repartition_list[0],\n",
    "    repartition_list[i]\n",
    "    ) for i in range(len(repartition_list))\n",
    "]\n",
    "\n",
    "\n",
    "for test_loader in test_list:\n",
    "    \n",
    "    accuracy = test(model,device,test_loader)/100\n",
    "    delta_y.append(accuracy)"
   ]
  },
  {
   "cell_type": "code",
   "execution_count": 32,
   "metadata": {},
   "outputs": [
    {
     "data": {
      "image/png": "[encoded data removed]",
      "text/plain": [
       "<Figure size 432x288 with 1 Axes>"
      ]
     },
     "metadata": {
      "needs_background": "light"
     },
     "output_type": "display_data"
    }
   ],
   "source": [
    "#import matplotlib\n",
    "#import tk\n",
    "import matplotlib.pyplot as plt\n",
    "\n",
    "#matplotlib.use('TkAgg')\n",
    "\n",
    "plt.plot(delta_x,delta_y)\n",
    "plt.show()"
   ]
  },
  {
   "cell_type": "code",
   "execution_count": null,
   "metadata": {},
   "outputs": [],
   "source": []
  }
 ],
 "metadata": {
  "kernelspec": {
   "display_name": "env",
   "language": "python",
   "name": "env"
  },
  "language_info": {
   "codemirror_mode": {
    "name": "ipython",
    "version": 3
   },
   "file_extension": ".py",
   "mimetype": "text/x-python",
   "name": "python",
   "nbconvert_exporter": "python",
   "pygments_lexer": "ipython3",
   "version": "3.8.2"
  }
 },
 "nbformat": 4,
 "nbformat_minor": 4
}
